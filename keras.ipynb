{
 "cells": [
  {
   "cell_type": "markdown",
   "metadata": {},
   "source": [
    "# Keras Tutorial"
   ]
  },
  {
   "cell_type": "markdown",
   "metadata": {},
   "source": [
    "Keras is a popular deep learning framework and it's easy to get started."
   ]
  },
  {
   "cell_type": "code",
   "execution_count": 1,
   "metadata": {},
   "outputs": [
    {
     "name": "stderr",
     "output_type": "stream",
     "text": [
      "Using TensorFlow backend.\n"
     ]
    }
   ],
   "source": [
    "import keras\n",
    "from keras.datasets import mnist\n",
    "from keras.models import Sequential\n",
    "from keras.layers import Dense, Dropout, Flatten, Conv2D, MaxPooling2D\n",
    "import numpy as np\n",
    "\n",
    "BATCH_SIZE = 128\n",
    "NUM_CLASSES = 10\n",
    "NUM_EPOCHS = 10"
   ]
  },
  {
   "cell_type": "markdown",
   "metadata": {},
   "source": [
    "First, we read the mnist data and preprocess them."
   ]
  },
  {
   "cell_type": "code",
   "execution_count": 2,
   "metadata": {},
   "outputs": [],
   "source": [
    "# download and load the data (split them between train and test sets)\n",
    "(x_train, y_train), (x_test, y_test) = mnist.load_data()\n",
    "\n",
    "# expand the channel dimension\n",
    "x_train = x_train.reshape(x_train.shape[0], 28, 28, 1)\n",
    "x_test = x_test.reshape(x_test.shape[0], 28, 28, 1)\n",
    "input_shape = (28, 28, 1)\n",
    "\n",
    "# make the value of pixels from [0, 255] to [0, 1] for further process\n",
    "x_train = x_train.astype('float32') / 255.\n",
    "x_test = x_test.astype('float32') / 255.\n",
    "\n",
    "# convert class vectors to binary class matrics\n",
    "y_train = keras.utils.to_categorical(y_train, NUM_CLASSES)\n",
    "y_test = keras.utils.to_categorical(y_test, NUM_CLASSES)"
   ]
  },
  {
   "cell_type": "markdown",
   "metadata": {},
   "source": [
    "Then, we define the model, object function and optimizer that we use to classify."
   ]
  },
  {
   "cell_type": "code",
   "execution_count": 3,
   "metadata": {},
   "outputs": [],
   "source": [
    "# define the model\n",
    "model = Sequential()\n",
    "model.add(Conv2D(32, (3, 3), activation='relu', padding='same', data_format='channels_last',input_shape=(28, 28, 1)))\n",
    "model.add(Conv2D(32, (3, 3), activation='relu', padding='same', data_format='channels_last'))\n",
    "model.add(MaxPooling2D(pool_size=(2, 2),strides=(2,2), padding = 'same', data_format='channels_last'))\n",
    "model.add(Dropout(0.25))\n",
    "model.add(Conv2D(64, (3, 3), activation='relu', padding='same', data_format='channels_last'))\n",
    "model.add(Conv2D(64, (3, 3), activation='relu', padding='same', data_format='channels_last'))\n",
    "model.add(MaxPooling2D(pool_size=(2, 2),strides=(2,2), padding = 'same', data_format='channels_last'))\n",
    "model.add(Flatten())\n",
    "model.add(Dense(128, activation='relu'))  \n",
    "model.add(Dropout(0.5))\n",
    "model.add(Dense(10, activation='softmax')) \n",
    "\n",
    "# define the object function, optimizer and metrics\n",
    "model.compile(loss='categorical_crossentropy', optimizer='adam', metrics = ['accuracy'])"
   ]
  },
  {
   "cell_type": "markdown",
   "metadata": {},
   "source": [
    "Next, we can start to train and evaluate!"
   ]
  },
  {
   "cell_type": "code",
   "execution_count": 4,
   "metadata": {},
   "outputs": [
    {
     "name": "stdout",
     "output_type": "stream",
     "text": [
      "Epoch 1/10\n",
      "60000/60000 [==============================] - 228s 4ms/step - loss: 0.2675 - accuracy: 0.9147\n",
      "Epoch 2/10\n",
      "60000/60000 [==============================] - 191s 3ms/step - loss: 0.0816 - accuracy: 0.9760\n",
      "Epoch 3/10\n",
      "60000/60000 [==============================] - 186s 3ms/step - loss: 0.0589 - accuracy: 0.9822\n",
      "Epoch 4/10\n",
      "60000/60000 [==============================] - 186s 3ms/step - loss: 0.0457 - accuracy: 0.9867\n",
      "Epoch 5/10\n",
      "60000/60000 [==============================] - 186s 3ms/step - loss: 0.0396 - accuracy: 0.9881\n",
      "Epoch 6/10\n",
      "60000/60000 [==============================] - 204s 3ms/step - loss: 0.0334 - accuracy: 0.9899\n",
      "Epoch 7/10\n",
      "60000/60000 [==============================] - 204s 3ms/step - loss: 0.0277 - accuracy: 0.9915\n",
      "Epoch 8/10\n",
      "60000/60000 [==============================] - 183s 3ms/step - loss: 0.0267 - accuracy: 0.9914\n",
      "Epoch 9/10\n",
      "60000/60000 [==============================] - 219s 4ms/step - loss: 0.0255 - accuracy: 0.9922\n",
      "Epoch 10/10\n",
      "60000/60000 [==============================] - 276s 5ms/step - loss: 0.0219 - accuracy: 0.9936\n",
      "60000/60000 [==============================] - 65s 1ms/step\n",
      "Training loss: 0.0072, Training accuracy: 99.78%\n",
      "10000/10000 [==============================] - 9s 901us/step\n",
      "Testing loss: 0.0189, Testing accuracy: 99.42%\n"
     ]
    }
   ],
   "source": [
    "# train\n",
    "model.fit(x_train, y_train, epochs = NUM_EPOCHS, batch_size = BATCH_SIZE)\n",
    "\n",
    "# evaluate\n",
    "score_train = model.evaluate(x_train,y_train)\n",
    "print('Training loss: %.4f, Training accuracy: %.2f%%' % (score_train[0],score_train[1]*100))\n",
    "score_test = model.evaluate(x_test,y_test)\n",
    "print('Testing loss: %.4f, Testing accuracy: %.2f%%' % (score_test[0],score_test[1]*100))"
   ]
  },
  {
   "cell_type": "markdown",
   "metadata": {},
   "source": [
    "#### Q6:\n",
    "Please print the training and testing accuracy."
   ]
  }
 ],
 "metadata": {
  "kernelspec": {
   "display_name": "Python 3",
   "language": "python",
   "name": "python3"
  },
  "language_info": {
   "codemirror_mode": {
    "name": "ipython",
    "version": 3
   },
   "file_extension": ".py",
   "mimetype": "text/x-python",
   "name": "python",
   "nbconvert_exporter": "python",
   "pygments_lexer": "ipython3",
   "version": "3.7.3"
  }
 },
 "nbformat": 4,
 "nbformat_minor": 2
}
